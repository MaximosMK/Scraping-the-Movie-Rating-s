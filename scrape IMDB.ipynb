{
 "cells": [
  {
   "cell_type": "markdown",
   "metadata": {},
   "source": [
    "Importing Library"
   ]
  },
  {
   "cell_type": "code",
   "execution_count": 30,
   "metadata": {},
   "outputs": [],
   "source": [
    "from bs4 import BeautifulSoup\n",
    "import requests\n",
    "import openpyxl"
   ]
  },
  {
   "cell_type": "markdown",
   "metadata": {},
   "source": [
    "Scraping the Web page for the DATA"
   ]
  },
  {
   "cell_type": "code",
   "execution_count": 31,
   "metadata": {},
   "outputs": [
    {
     "name": "stdout",
     "output_type": "stream",
     "text": [
      "['Sheet']\n",
      "['Top Rated Movies']\n"
     ]
    }
   ],
   "source": [
    "# Creating an excel file\n",
    "excel = openpyxl.Workbook()\n",
    "sheet = excel.active\n",
    "# Naming the excel sheet\n",
    "sheet.title = 'Top Rated Movies'\n",
    "# Naming the column of the Sheet\n",
    "sheet.append(['Movie Rank', 'Movie Name', 'Year of Release', 'IMDB Rating', 'Numbers of Ratings'])\n",
    "\n",
    "try:\n",
    "    \n",
    "    source = requests.get('https://www.imdb.com/chart/top/')\n",
    "    source.raise_for_status()\n",
    "    # Geting the html From the source\n",
    "    soup = BeautifulSoup(source.text,'html.parser')\n",
    "    \n",
    "    movies = soup.find('tbody', class_=\"lister-list\").find_all('tr')\n",
    "    \n",
    "    for movie in movies:\n",
    "        rank = movie.find('td', class_=\"titleColumn\").get_text(strip=True).split('.')[0]\n",
    "        name = movie.find('td', class_=\"titleColumn\").a.text\n",
    "        year = movie.find('td', class_=\"titleColumn\").span.text.strip('()')\n",
    "        rating = movie.find('td', class_=\"ratingColumn imdbRating\").strong.text\n",
    "        num = movie.find('td', class_=\"ratingColumn imdbRating\").strong['title']\n",
    "        #print(rank , name, year, rating, num)\n",
    "        sheet.append([rank , name, year, rating, num])\n",
    "        \n",
    "\n",
    "except Exception as e:\n",
    "    print(e)\n",
    "\n",
    "excel.save('IMDB MOvie Rating.xlsx')"
   ]
  }
 ],
 "metadata": {
  "kernelspec": {
   "display_name": "Python 3.9.12 ('base')",
   "language": "python",
   "name": "python3"
  },
  "language_info": {
   "codemirror_mode": {
    "name": "ipython",
    "version": 3
   },
   "file_extension": ".py",
   "mimetype": "text/x-python",
   "name": "python",
   "nbconvert_exporter": "python",
   "pygments_lexer": "ipython3",
   "version": "3.9.12"
  },
  "orig_nbformat": 4,
  "vscode": {
   "interpreter": {
    "hash": "ad2bdc8ecc057115af97d19610ffacc2b4e99fae6737bb82f5d7fb13d2f2c186"
   }
  }
 },
 "nbformat": 4,
 "nbformat_minor": 2
}
